{
 "cells": [
  {
   "cell_type": "markdown",
   "metadata": {},
   "source": [
    "# I. Experimentation with API"
   ]
  },
  {
   "cell_type": "code",
   "execution_count": 1,
   "metadata": {},
   "outputs": [],
   "source": [
    "import requests"
   ]
  },
  {
   "cell_type": "code",
   "execution_count": 2,
   "metadata": {},
   "outputs": [],
   "source": [
    "base_url = 'https://nominatim.openstreetmap.org/search?'\n",
    "\n",
    "params = {\n",
    "    'format':'json',\n",
    "    'q': 'Eiffel tower'\n",
    "}"
   ]
  },
  {
   "cell_type": "code",
   "execution_count": 3,
   "metadata": {},
   "outputs": [
    {
     "data": {
      "text/plain": [
       "200"
      ]
     },
     "execution_count": 3,
     "metadata": {},
     "output_type": "execute_result"
    }
   ],
   "source": [
    "result = requests.get(base_url, params=params)\n",
    "result.status_code"
   ]
  },
  {
   "cell_type": "code",
   "execution_count": 7,
   "metadata": {},
   "outputs": [
    {
     "data": {
      "text/plain": [
       "[{'place_id': 103174120,\n",
       "  'licence': 'Data © OpenStreetMap contributors, ODbL 1.0. https://osm.org/copyright',\n",
       "  'osm_type': 'way',\n",
       "  'osm_id': 5013364,\n",
       "  'boundingbox': ['48.8574753', '48.8590453', '2.2933084', '2.2956897'],\n",
       "  'lat': '48.858260200000004',\n",
       "  'lon': '2.2944990543196795',\n",
       "  'display_name': 'Tour Eiffel, 5, Avenue Anatole France, Quartier du Gros-Caillou, Paris 7e Arrondissement, Paris, Île-de-France, France métropolitaine, 75007, France',\n",
       "  'class': 'tourism',\n",
       "  'type': 'attraction',\n",
       "  'importance': 0.6868325701744196,\n",
       "  'icon': 'https://nominatim.openstreetmap.org/ui/mapicons/poi_point_of_interest.p.20.png'},\n",
       " {'place_id': 24545863,\n",
       "  'licence': 'Data © OpenStreetMap contributors, ODbL 1.0. https://osm.org/copyright',\n",
       "  'osm_type': 'node',\n",
       "  'osm_id': 2689315641,\n",
       "  'boundingbox': ['51.33355', '51.33365', '-116.23505', '-116.23495'],\n",
       "  'lat': '51.3336',\n",
       "  'lon': '-116.235',\n",
       "  'display_name': 'Eiffel Tower, Improvement District No. 9, Alberta, Canada',\n",
       "  'class': 'natural',\n",
       "  'type': 'peak',\n",
       "  'importance': 0.50001,\n",
       "  'icon': 'https://nominatim.openstreetmap.org/ui/mapicons/poi_peak.p.20.png'}]"
      ]
     },
     "execution_count": 7,
     "metadata": {},
     "output_type": "execute_result"
    }
   ],
   "source": [
    "result.json()[:2]"
   ]
  },
  {
   "cell_type": "code",
   "execution_count": 5,
   "metadata": {},
   "outputs": [
    {
     "data": {
      "text/plain": [
       "[]"
      ]
     },
     "execution_count": 5,
     "metadata": {},
     "output_type": "execute_result"
    }
   ],
   "source": [
    "params = {\n",
    "    'format':'json',\n",
    "    'q': 'Cair Paravel, Narnia', 'limit':1\n",
    "    }\n",
    "\n",
    "requests.get(base_url, params=params).json()"
   ]
  },
  {
   "cell_type": "markdown",
   "metadata": {},
   "source": [
    "# Function"
   ]
  },
  {
   "cell_type": "code",
   "execution_count": 19,
   "metadata": {},
   "outputs": [],
   "source": [
    "import requests\n",
    "from time import sleep\n",
    " \n",
    "base_url = 'https://nominatim.openstreetmap.org/search?'\n",
    " \n",
    "def nominatim_geocode(address, format='json', limit=1, **kwargs):\n",
    "    '''thin wrapper around nominatim API.\n",
    " \n",
    "    Documentation: https://wiki.openstreetmap.org/wiki/Nominatim#Parameters\n",
    "    '''\n",
    "    params = {'q':address, 'format':format, 'limit':limit, **kwargs}\n",
    " \n",
    "    response = requests.get(base_url, params=params)\n",
    "    response.raise_for_status() # will raise exception if status is unsuccessful\n",
    " \n",
    "    sleep(1) # sleep \n",
    "    return response.json()"
   ]
  },
  {
   "cell_type": "code",
   "execution_count": 7,
   "metadata": {},
   "outputs": [
    {
     "data": {
      "text/plain": [
       "[{'place_id': '69121935',\n",
       "  'licence': 'Data © OpenStreetMap contributors, ODbL 1.0. https://osm.org/copyright',\n",
       "  'osm_type': 'way',\n",
       "  'osm_id': '5013364',\n",
       "  'boundingbox': ['48.8574753', '48.8590465', '2.2933084', '2.2956897'],\n",
       "  'lat': '48.8582602',\n",
       "  'lon': '2.29449905431968',\n",
       "  'display_name': 'Tour Eiffel, 5, Avenue Anatole France, Gros-Caillou, 7e, Paris, Île-de-France, France métropolitaine, 75007, France',\n",
       "  'class': 'tourism',\n",
       "  'type': 'attraction',\n",
       "  'importance': 0.653772102971417,\n",
       "  'icon': 'https://nominatim.openstreetmap.org/images/mapicons/poi_point_of_interest.p.20.png'}]"
      ]
     },
     "execution_count": 7,
     "metadata": {},
     "output_type": "execute_result"
    }
   ],
   "source": [
    "nominatim_geocode('Eiffel tower')"
   ]
  },
  {
   "cell_type": "code",
   "execution_count": 8,
   "metadata": {},
   "outputs": [
    {
     "data": {
      "text/plain": [
       "[{'place_id': '50843439',\n",
       "  'licence': 'Data © OpenStreetMap contributors, ODbL 1.0. https://osm.org/copyright',\n",
       "  'osm_type': 'node',\n",
       "  'osm_id': '3916613190',\n",
       "  'boundingbox': ['51.5237104', '51.5238104', '-0.1585445', '-0.1584445'],\n",
       "  'lat': '51.5237604',\n",
       "  'lon': '-0.1584945',\n",
       "  'display_name': 'The Sherlock Holmes Museum, 221B, Baker Street, Marylebone, City of Westminster, London, Greater London, England, NW1 6XE, UK',\n",
       "  'class': 'tourism',\n",
       "  'type': 'museum',\n",
       "  'importance': 0.5209999999999999,\n",
       "  'icon': 'https://nominatim.openstreetmap.org/images/mapicons/tourist_museum.p.20.png'}]"
      ]
     },
     "execution_count": 8,
     "metadata": {},
     "output_type": "execute_result"
    }
   ],
   "source": [
    "nominatim_geocode(address=None,\n",
    "                  street='221B Baker Street', \n",
    "                  city='London', country='Great Britain')"
   ]
  },
  {
   "cell_type": "markdown",
   "metadata": {},
   "source": [
    "# Reading and Writing to CSV files"
   ]
  },
  {
   "cell_type": "code",
   "execution_count": 8,
   "metadata": {},
   "outputs": [],
   "source": [
    "from csv import DictReader, DictWriter\n",
    "path = './cities.csv'"
   ]
  },
  {
   "cell_type": "code",
   "execution_count": 10,
   "metadata": {},
   "outputs": [],
   "source": [
    "def read_csv(path):\n",
    "    '''read csv and return it as a list of dictionaries, one per row'''\n",
    "    with open(path, 'r') as f:\n",
    "        return list(DictReader(f))\n",
    "\n",
    "\n",
    "def write_csv(data, path, mode='w'):\n",
    "    '''write data to csv or append to existing one'''\n",
    "    if mode not in 'wa':  # 'a' mode will append to the existing file, if it exists\n",
    "        raise ValueError(\"mode should be either 'w' or 'a'\")  \n",
    "    \n",
    "    with open(path, mode) as f:\n",
    "        writer = DictWriter(f, fieldnames=data[0].keys())\n",
    "        if mode == 'w':\n",
    "            writer.writeheader() \n",
    "\n",
    "        for row in data:\n",
    "            writer.writerow(row)   "
   ]
  },
  {
   "cell_type": "code",
   "execution_count": 13,
   "metadata": {},
   "outputs": [
    {
     "data": {
      "text/plain": [
       "{'name': 'Tokio', 'population': '38.05', 'country': 'Japan'}"
      ]
     },
     "execution_count": 13,
     "metadata": {},
     "output_type": "execute_result"
    }
   ],
   "source": [
    "cities = read_csv('./cities.csv')\n",
    "cities[0]"
   ]
  },
  {
   "cell_type": "code",
   "execution_count": 14,
   "metadata": {},
   "outputs": [],
   "source": [
    "write_csv(cities, './my_cities.csv')"
   ]
  },
  {
   "cell_type": "markdown",
   "metadata": {},
   "source": [
    "# Batch geocode"
   ]
  },
  {
   "cell_type": "code",
   "execution_count": 15,
   "metadata": {},
   "outputs": [],
   "source": [
    "from tqdm import tqdm"
   ]
  },
  {
   "cell_type": "code",
   "execution_count": 16,
   "metadata": {},
   "outputs": [],
   "source": [
    "def geocode_bulk(data, column='address', verbose=False):\n",
    "    '''assuming data is an iterable of dicts, will attempt to geocode each,\n",
    "    treating {column} as an address. Returns 2 iterables - result and errored rows'''\n",
    "    result, errors = [], []\n",
    "\n",
    "    for row in tqdm(data):\n",
    "        try:\n",
    "            search = nominatim_geocode(row[column], limit=1)\n",
    "            if len(search) == 0: # no location found:\n",
    "                result.append(row)\n",
    "                if verbose:\n",
    "                    print(f\"Can't find anything for {row[column]}\")\n",
    "                    \n",
    "            else:\n",
    "                info = search[0]  # most \"important\" result\n",
    "                info.update(row)  # merge two dicts\n",
    "                result.append(info) \n",
    "        except Exception as e:\n",
    "            if verbose:\n",
    "                print(e)\n",
    "            row['error'] = e\n",
    "            errors.append(row)\n",
    "    \n",
    "    if len(errors) > 0 and verbose:\n",
    "        print(f'{len(errors)}/{len(data)} rows failed')\n",
    "\n",
    "    return result, errors"
   ]
  },
  {
   "cell_type": "code",
   "execution_count": 17,
   "metadata": {},
   "outputs": [
    {
     "data": {
      "text/plain": [
       "10"
      ]
     },
     "execution_count": 17,
     "metadata": {},
     "output_type": "execute_result"
    }
   ],
   "source": [
    "len(cities)"
   ]
  },
  {
   "cell_type": "code",
   "execution_count": 20,
   "metadata": {},
   "outputs": [
    {
     "name": "stderr",
     "output_type": "stream",
     "text": [
      "100%|████████████████████████████████████████████████████████████| 10/10 [00:25<00:00,  2.52s/it]\n"
     ]
    }
   ],
   "source": [
    "result, errors = geocode_bulk(cities, column='name', verbose=True)"
   ]
  },
  {
   "cell_type": "code",
   "execution_count": 21,
   "metadata": {},
   "outputs": [
    {
     "data": {
      "text/plain": [
       "10"
      ]
     },
     "execution_count": 21,
     "metadata": {},
     "output_type": "execute_result"
    }
   ],
   "source": [
    "len(result)"
   ]
  },
  {
   "cell_type": "code",
   "execution_count": 22,
   "metadata": {},
   "outputs": [
    {
     "data": {
      "text/plain": [
       "[]"
      ]
     },
     "execution_count": 22,
     "metadata": {},
     "output_type": "execute_result"
    }
   ],
   "source": [
    "errors"
   ]
  },
  {
   "cell_type": "markdown",
   "metadata": {},
   "source": [
    "# Script"
   ]
  },
  {
   "cell_type": "code",
   "execution_count": null,
   "metadata": {},
   "outputs": [],
   "source": [
    "# functions above + this:\n",
    "# path_in = './capitals.csv'\n",
    "# path_out = './geocoded_capitals.csv'\n",
    "\n",
    "# data = read_csv(path_in)\n",
    "# result, errors = geocode_bulk(data, column='name', verbose=True)\n",
    "# write_csv(result, path_out)"
   ]
  },
  {
   "cell_type": "markdown",
   "metadata": {},
   "source": [
    "Check out the final version of the script - geocode.py in the same folder"
   ]
  },
  {
   "cell_type": "code",
   "execution_count": 32,
   "metadata": {},
   "outputs": [],
   "source": [
    "def title(f):\n",
    "    def _title(*args, **kwargs):\n",
    "        return f'<h1> {f(*args)} </h1>'\n",
    "    return _title\n"
   ]
  },
  {
   "cell_type": "code",
   "execution_count": 33,
   "metadata": {},
   "outputs": [
    {
     "data": {
      "text/plain": [
       "'<h1> hello </h1>'"
      ]
     },
     "execution_count": 33,
     "metadata": {},
     "output_type": "execute_result"
    }
   ],
   "source": [
    "def mytext(x):\n",
    "    return str(x)\n",
    "Mytitle=title(mytext)\n",
    "Mytitle('hello')"
   ]
  },
  {
   "cell_type": "code",
   "execution_count": 35,
   "metadata": {},
   "outputs": [
    {
     "data": {
      "text/plain": [
       "'<h1> hello </h1>'"
      ]
     },
     "execution_count": 35,
     "metadata": {},
     "output_type": "execute_result"
    }
   ],
   "source": [
    "@title\n",
    "def Mytitle(x):\n",
    "    return str(x)\n",
    "Mytitle('hello')"
   ]
  },
  {
   "cell_type": "code",
   "execution_count": 37,
   "metadata": {},
   "outputs": [
    {
     "name": "stdout",
     "output_type": "stream",
     "text": [
      "10 -2\n"
     ]
    }
   ],
   "source": [
    "def add(x, y):\n",
    "    return x + y\n",
    "\n",
    "def minus(x,y):\n",
    "    return x-y\n",
    "\n",
    "def calculate(func, x, y):\n",
    "    return func(x, y)\n",
    "\n",
    "result = calculate(add, 4, 6)\n",
    "result2=calculate(minus, 4,6)\n",
    "print(result, result2) \n"
   ]
  },
  {
   "cell_type": "code",
   "execution_count": 42,
   "metadata": {},
   "outputs": [
    {
     "name": "stdout",
     "output_type": "stream",
     "text": [
      "I got decorated\n",
      "I am ordinary\n"
     ]
    }
   ],
   "source": [
    "def make_pretty(func):\n",
    "\n",
    "    def inner():\n",
    "        print(\"I got decorated\")\n",
    "        func()\n",
    "    return inner\n",
    "\n",
    "@make_pretty\n",
    "def ordinary():\n",
    "    print(\"I am ordinary\")\n",
    "\n",
    "ordinary()  "
   ]
  },
  {
   "cell_type": "code",
   "execution_count": 43,
   "metadata": {},
   "outputs": [
    {
     "name": "stdout",
     "output_type": "stream",
     "text": [
      "***************\n",
      "%%%%%%%%%%%%%%%\n",
      "Hello\n",
      "%%%%%%%%%%%%%%%\n",
      "***************\n"
     ]
    }
   ],
   "source": [
    "def star(func):\n",
    "    def inner(*args, **kwargs):\n",
    "        print(\"*\" * 15)\n",
    "        func(*args, **kwargs)\n",
    "        print(\"*\" * 15)\n",
    "    return inner\n",
    "\n",
    "\n",
    "def percent(func):\n",
    "    def inner(*args, **kwargs):\n",
    "        print(\"%\" * 15)\n",
    "        func(*args, **kwargs)\n",
    "        print(\"%\" * 15)\n",
    "    return inner\n",
    "\n",
    "\n",
    "@star\n",
    "@percent\n",
    "def printer(msg):\n",
    "    print(msg)\n",
    "\n",
    "printer(\"Hello\")"
   ]
  },
  {
   "cell_type": "code",
   "execution_count": null,
   "metadata": {},
   "outputs": [],
   "source": []
  }
 ],
 "metadata": {
  "kernelspec": {
   "display_name": "Python 3 (ipykernel)",
   "language": "python",
   "name": "python3"
  },
  "language_info": {
   "codemirror_mode": {
    "name": "ipython",
    "version": 3
   },
   "file_extension": ".py",
   "mimetype": "text/x-python",
   "name": "python",
   "nbconvert_exporter": "python",
   "pygments_lexer": "ipython3",
   "version": "3.10.11"
  }
 },
 "nbformat": 4,
 "nbformat_minor": 2
}
